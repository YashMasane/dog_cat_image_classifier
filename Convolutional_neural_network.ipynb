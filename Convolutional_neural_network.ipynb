{
 "cells": [
  {
   "cell_type": "markdown",
   "metadata": {
    "id": "3DR-eO17geWu"
   },
   "source": [
    "# Convolutional Neural Network"
   ]
  },
  {
   "cell_type": "markdown",
   "metadata": {
    "id": "EMefrVPCg-60"
   },
   "source": [
    "### Importing the libraries"
   ]
  },
  {
   "cell_type": "code",
   "execution_count": 29,
   "metadata": {
    "id": "M615Dgxzx8gN",
    "scrolled": true
   },
   "outputs": [],
   "source": [
    "import tensorflow as tf\n",
    "from keras.preprocessing.image import ImageDataGenerator"
   ]
  },
  {
   "cell_type": "code",
   "execution_count": 30,
   "metadata": {
    "colab": {
     "base_uri": "https://localhost:8080/",
     "height": 35
    },
    "id": "ATzLzTKByJ-T",
    "outputId": "b7b9566a-dfaf-495e-8e53-df6e6a172b71"
   },
   "outputs": [
    {
     "data": {
      "text/plain": [
       "'2.15.0'"
      ]
     },
     "execution_count": 30,
     "metadata": {},
     "output_type": "execute_result"
    }
   ],
   "source": [
    "tf.__version__"
   ]
  },
  {
   "cell_type": "markdown",
   "metadata": {
    "id": "oxQxCBWyoGPE"
   },
   "source": [
    "## Part 1 - Data Preprocessing"
   ]
  },
  {
   "cell_type": "markdown",
   "metadata": {
    "id": "MvE-heJNo3GG"
   },
   "source": [
    "### Preprocessing the Training set"
   ]
  },
  {
   "cell_type": "code",
   "execution_count": 31,
   "metadata": {
    "colab": {
     "base_uri": "https://localhost:8080/",
     "height": 426
    },
    "id": "tv8CyGbACgAq",
    "outputId": "b3f1a348-df96-4bb3-ffb5-7b647f9ec949"
   },
   "outputs": [
    {
     "name": "stdout",
     "output_type": "stream",
     "text": [
      "Found 8000 images belonging to 2 classes.\n"
     ]
    }
   ],
   "source": [
    "# We applied some transformation on images to avoid overfitting which is called image augmatation\n",
    "# These transformations are rotating images i.e. shifting pixels, zoom in, zoom out and some geometrical transformations\n",
    "# rescale keyword argument is for feature scaling of dataset other arguments are performing image augmatation.\n",
    "\n",
    "train_datagen = ImageDataGenerator(rescale = 1./255,\n",
    "                                   shear_range = 0.2,\n",
    "                                   zoom_range = 0.2,\n",
    "                                   horizontal_flip = True)\n",
    "\n",
    "# Connecting train_datagen object to our training set images\n",
    "\n",
    "training_set = train_datagen.flow_from_directory(\n",
    "        'dataset/training_set',\n",
    "        target_size=(64, 64),\n",
    "        batch_size=32,\n",
    "        class_mode='binary')\n",
    "\n",
    "\n"
   ]
  },
  {
   "cell_type": "markdown",
   "metadata": {
    "id": "mrCMmGw9pHys"
   },
   "source": [
    "### Preprocessing the Test set"
   ]
  },
  {
   "cell_type": "code",
   "execution_count": 32,
   "metadata": {
    "id": "lkBXFTSGDjy4"
   },
   "outputs": [
    {
     "name": "stdout",
     "output_type": "stream",
     "text": [
      "Found 2000 images belonging to 2 classes.\n"
     ]
    }
   ],
   "source": [
    "test_datagen = ImageDataGenerator(rescale=1./255)\n",
    "\n",
    "test_set = test_datagen.flow_from_directory(\n",
    "        'dataset/test_set',\n",
    "        target_size=(64, 64),\n",
    "        batch_size=32,\n",
    "        class_mode='binary')\n"
   ]
  },
  {
   "cell_type": "markdown",
   "metadata": {
    "id": "af8O4l90gk7B"
   },
   "source": [
    "## Part 2 - Building the CNN"
   ]
  },
  {
   "cell_type": "markdown",
   "metadata": {
    "id": "ces1gXY2lmoX"
   },
   "source": [
    "### Initialising the CNN"
   ]
  },
  {
   "cell_type": "code",
   "execution_count": 33,
   "metadata": {
    "id": "eXG-9P4ZUvNz"
   },
   "outputs": [],
   "source": [
    "cnn = tf.keras.models.Sequential()"
   ]
  },
  {
   "cell_type": "markdown",
   "metadata": {
    "id": "u5YJj_XMl5LF"
   },
   "source": [
    "### Step 1 - Convolution"
   ]
  },
  {
   "cell_type": "code",
   "execution_count": 34,
   "metadata": {
    "id": "mXKqbJlSU_k4"
   },
   "outputs": [],
   "source": [
    "cnn.add(tf.keras.layers.Conv2D(filters=32, kernel_size=3, activation='relu', input_shape=[64, 64, 3]))"
   ]
  },
  {
   "cell_type": "markdown",
   "metadata": {
    "id": "tf87FpvxmNOJ"
   },
   "source": [
    "### Step 2 - Pooling"
   ]
  },
  {
   "cell_type": "code",
   "execution_count": 35,
   "metadata": {
    "id": "xX7tYGwcVlmS"
   },
   "outputs": [],
   "source": [
    "cnn.add(tf.keras.layers.MaxPool2D(pool_size=2, strides=2))"
   ]
  },
  {
   "cell_type": "markdown",
   "metadata": {
    "id": "xaTOgD8rm4mU"
   },
   "source": [
    "### Adding a second convolutional layer"
   ]
  },
  {
   "cell_type": "code",
   "execution_count": 36,
   "metadata": {
    "id": "kEl_PczRV5zb"
   },
   "outputs": [],
   "source": [
    "cnn.add(tf.keras.layers.Conv2D(filters=32, kernel_size=3, activation='relu'))\n",
    "cnn.add(tf.keras.layers.MaxPool2D(pool_size=2, strides=2))"
   ]
  },
  {
   "cell_type": "markdown",
   "metadata": {
    "id": "tmiEuvTunKfk"
   },
   "source": [
    "### Step 3 - Flattening"
   ]
  },
  {
   "cell_type": "code",
   "execution_count": 37,
   "metadata": {
    "id": "QQ5CeaVFWFUe"
   },
   "outputs": [],
   "source": [
    "cnn.add(tf.keras.layers.Flatten())"
   ]
  },
  {
   "cell_type": "markdown",
   "metadata": {
    "id": "dAoSECOm203v"
   },
   "source": [
    "### Step 4 - Full Connection"
   ]
  },
  {
   "cell_type": "code",
   "execution_count": 38,
   "metadata": {
    "id": "5SJzEhPSWTtl"
   },
   "outputs": [],
   "source": [
    "cnn.add(tf.keras.layers.Dense(units=128, activation='relu'))"
   ]
  },
  {
   "cell_type": "markdown",
   "metadata": {
    "id": "yTldFvbX28Na"
   },
   "source": [
    "### Step 5 - Output Layer"
   ]
  },
  {
   "cell_type": "code",
   "execution_count": 39,
   "metadata": {
    "id": "tY91fFboWd4B"
   },
   "outputs": [],
   "source": [
    "cnn.add(tf.keras.layers.Dense(units=1, activation='sigmoid'))"
   ]
  },
  {
   "cell_type": "markdown",
   "metadata": {
    "id": "D6XkI90snSDl"
   },
   "source": [
    "## Part 3 - Training the CNN"
   ]
  },
  {
   "cell_type": "markdown",
   "metadata": {
    "id": "vfrFQACEnc6i"
   },
   "source": [
    "### Compiling the CNN"
   ]
  },
  {
   "cell_type": "code",
   "execution_count": 40,
   "metadata": {
    "id": "86vGK8G4p37p"
   },
   "outputs": [],
   "source": [
    "cnn.compile(optimizer='adam', loss = 'binary_crossentropy', metrics = ['accuracy'])"
   ]
  },
  {
   "cell_type": "markdown",
   "metadata": {
    "id": "ehS-v3MIpX2h"
   },
   "source": [
    "### Training the CNN on the Training set and evaluating it on the Test set"
   ]
  },
  {
   "cell_type": "code",
   "execution_count": 41,
   "metadata": {
    "id": "DqA6XVdPqMCI"
   },
   "outputs": [
    {
     "name": "stdout",
     "output_type": "stream",
     "text": [
      "Epoch 1/25\n",
      "250/250 [==============================] - 22s 84ms/step - loss: 0.6705 - accuracy: 0.5876 - val_loss: 0.6292 - val_accuracy: 0.6455\n",
      "Epoch 2/25\n",
      "250/250 [==============================] - 21s 85ms/step - loss: 0.6052 - accuracy: 0.6736 - val_loss: 0.5738 - val_accuracy: 0.7215\n",
      "Epoch 3/25\n",
      "250/250 [==============================] - 21s 85ms/step - loss: 0.5525 - accuracy: 0.7175 - val_loss: 0.5255 - val_accuracy: 0.7585\n",
      "Epoch 4/25\n",
      "250/250 [==============================] - 21s 86ms/step - loss: 0.5155 - accuracy: 0.7487 - val_loss: 0.5034 - val_accuracy: 0.7575\n",
      "Epoch 5/25\n",
      "250/250 [==============================] - 21s 85ms/step - loss: 0.4941 - accuracy: 0.7584 - val_loss: 0.5034 - val_accuracy: 0.7670\n",
      "Epoch 6/25\n",
      "250/250 [==============================] - 21s 85ms/step - loss: 0.4821 - accuracy: 0.7664 - val_loss: 0.4829 - val_accuracy: 0.7615\n",
      "Epoch 7/25\n",
      "250/250 [==============================] - 21s 86ms/step - loss: 0.4649 - accuracy: 0.7774 - val_loss: 0.4634 - val_accuracy: 0.7880\n",
      "Epoch 8/25\n",
      "250/250 [==============================] - 21s 85ms/step - loss: 0.4517 - accuracy: 0.7859 - val_loss: 0.4546 - val_accuracy: 0.7940\n",
      "Epoch 9/25\n",
      "250/250 [==============================] - 21s 84ms/step - loss: 0.4280 - accuracy: 0.7983 - val_loss: 0.5396 - val_accuracy: 0.7440\n",
      "Epoch 10/25\n",
      "250/250 [==============================] - 21s 83ms/step - loss: 0.4146 - accuracy: 0.8076 - val_loss: 0.4747 - val_accuracy: 0.7670\n",
      "Epoch 11/25\n",
      "250/250 [==============================] - 21s 84ms/step - loss: 0.4009 - accuracy: 0.8080 - val_loss: 0.4579 - val_accuracy: 0.7830\n",
      "Epoch 12/25\n",
      "250/250 [==============================] - 21s 84ms/step - loss: 0.3879 - accuracy: 0.8239 - val_loss: 0.4749 - val_accuracy: 0.7730\n",
      "Epoch 13/25\n",
      "250/250 [==============================] - 21s 84ms/step - loss: 0.3675 - accuracy: 0.8338 - val_loss: 0.4553 - val_accuracy: 0.7845\n",
      "Epoch 14/25\n",
      "250/250 [==============================] - 21s 85ms/step - loss: 0.3570 - accuracy: 0.8396 - val_loss: 0.4699 - val_accuracy: 0.7955\n",
      "Epoch 15/25\n",
      "250/250 [==============================] - 21s 83ms/step - loss: 0.3423 - accuracy: 0.8482 - val_loss: 0.4867 - val_accuracy: 0.7820\n",
      "Epoch 16/25\n",
      "250/250 [==============================] - 21s 83ms/step - loss: 0.3269 - accuracy: 0.8540 - val_loss: 0.4679 - val_accuracy: 0.7835\n",
      "Epoch 17/25\n",
      "250/250 [==============================] - 21s 83ms/step - loss: 0.3065 - accuracy: 0.8717 - val_loss: 0.5586 - val_accuracy: 0.7550\n",
      "Epoch 18/25\n",
      "250/250 [==============================] - 20s 82ms/step - loss: 0.2923 - accuracy: 0.8764 - val_loss: 0.4712 - val_accuracy: 0.7935\n",
      "Epoch 19/25\n",
      "250/250 [==============================] - 21s 82ms/step - loss: 0.2791 - accuracy: 0.8774 - val_loss: 0.4759 - val_accuracy: 0.8090\n",
      "Epoch 20/25\n",
      "250/250 [==============================] - 21s 84ms/step - loss: 0.2686 - accuracy: 0.8859 - val_loss: 0.4872 - val_accuracy: 0.7930\n",
      "Epoch 21/25\n",
      "250/250 [==============================] - 21s 84ms/step - loss: 0.2615 - accuracy: 0.8865 - val_loss: 0.5013 - val_accuracy: 0.7905\n",
      "Epoch 22/25\n",
      "250/250 [==============================] - 21s 83ms/step - loss: 0.2443 - accuracy: 0.9000 - val_loss: 0.5107 - val_accuracy: 0.7980\n",
      "Epoch 23/25\n",
      "250/250 [==============================] - 21s 84ms/step - loss: 0.2282 - accuracy: 0.9064 - val_loss: 0.5143 - val_accuracy: 0.8005\n",
      "Epoch 24/25\n",
      "250/250 [==============================] - 21s 86ms/step - loss: 0.2136 - accuracy: 0.9116 - val_loss: 0.5570 - val_accuracy: 0.8050\n",
      "Epoch 25/25\n",
      "250/250 [==============================] - 21s 84ms/step - loss: 0.2028 - accuracy: 0.9183 - val_loss: 0.5795 - val_accuracy: 0.7865\n"
     ]
    },
    {
     "data": {
      "text/plain": [
       "<keras.src.callbacks.History at 0x22713665b90>"
      ]
     },
     "execution_count": 41,
     "metadata": {},
     "output_type": "execute_result"
    }
   ],
   "source": [
    "cnn.fit(x=training_set, validation_data=test_set, epochs=25)"
   ]
  },
  {
   "cell_type": "markdown",
   "metadata": {
    "id": "U3PZasO0006Z"
   },
   "source": [
    "## Part 4 - Making a single prediction"
   ]
  },
  {
   "cell_type": "code",
   "execution_count": 65,
   "metadata": {
    "id": "t89oAcMEy0xG"
   },
   "outputs": [
    {
     "name": "stdout",
     "output_type": "stream",
     "text": [
      "1/1 [==============================] - 0s 19ms/step\n",
      "cat\n"
     ]
    }
   ],
   "source": [
    "import numpy as np\n",
    "from keras.preprocessing import image\n",
    "# Loading test image and updating its size as size of trained images\n",
    "test_image = image.load_img('dataset/single_prediction/cat_or_dog_1.jpg', target_size=(64, 64))\n",
    "# Converting image data into array\n",
    "test_image = image.img_to_array(test_image)\n",
    "# As we trained our images in batches, it is important to add an extra dimension 'batch' in the test data\n",
    "test_image = np.expand_dims(test_image, axis=0)\n",
    "result = cnn.predict(test_image)\n",
    "# Now we do some encoding on result\n",
    "# for that it is important to find wheather 1 is cat or dog or 0 is cat or dog\n",
    "# by printing following code we will get right corrosponding class indices\n",
    "training_set.class_indices\n",
    "# result[0][0] is the first and only element of the batch which corrosponds to the prediction of same dog or cat\n",
    "if result[0][0] == 1:\n",
    "  result = 'dog'\n",
    "else:\n",
    "  result = 'cat'\n",
    "print(result)"
   ]
  }
 ],
 "metadata": {
  "colab": {
   "provenance": []
  },
  "kernelspec": {
   "display_name": "Python 3 (ipykernel)",
   "language": "python",
   "name": "python3"
  },
  "language_info": {
   "codemirror_mode": {
    "name": "ipython",
    "version": 3
   },
   "file_extension": ".py",
   "mimetype": "text/x-python",
   "name": "python",
   "nbconvert_exporter": "python",
   "pygments_lexer": "ipython3",
   "version": "3.11.5"
  }
 },
 "nbformat": 4,
 "nbformat_minor": 1
}
